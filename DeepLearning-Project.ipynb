{
 "cells": [
  {
   "cell_type": "markdown",
   "id": "7f8934c5",
   "metadata": {},
   "source": [
    "# CONVOLUTIONAL NEURAL NETWORK"
   ]
  },
  {
   "cell_type": "markdown",
   "id": "4e1c51bc",
   "metadata": {},
   "source": [
    "Importing the Libraries"
   ]
  },
  {
   "cell_type": "code",
   "execution_count": 1,
   "id": "e0056642",
   "metadata": {},
   "outputs": [],
   "source": [
    "import tensorflow as tf\n",
    "from keras.preprocessing.image import ImageDataGenerator"
   ]
  },
  {
   "cell_type": "markdown",
   "id": "2e547772",
   "metadata": {},
   "source": [
    "## Part 1: Preprocessing the Dataset"
   ]
  },
  {
   "cell_type": "markdown",
   "id": "90ea5149",
   "metadata": {},
   "source": [
    "Preprocessing the Training Set"
   ]
  },
  {
   "cell_type": "code",
   "execution_count": 2,
   "id": "e013671d",
   "metadata": {},
   "outputs": [],
   "source": [
    "class_labels = ['Apple Braeburn', 'Apple Crimson Snow', 'Apple Golden 1', 'Apple Golden 2', 'Apple Golden 3',\n",
    "                'Apple Granny Smith', 'Apple Pink Lady', 'Apple Red 1', 'Apple Red 2', 'Apple Red 3', 'Apple Red Delicious',\n",
    "                'Apple Red Yellow 1', 'Apple Red Yellow 2', 'Apricot', 'Avocado', 'Avocado ripe', 'Banana', 'Banana Lady Finger',\n",
    "                'Banana Red', 'Beetroot', 'Blueberry', 'Cactus fruit', 'Cantaloupe 1', 'Cantaloupe 2', 'Carambula', \n",
    "                'Cauliflower', 'Cherry 1', 'Cherry 2', 'Cherry Rainier', 'Cherry Wax Black', 'Cherry Wax Red', \n",
    "                'Cherry Wax Yellow', 'Chestnut', 'Clementine', 'Cocos', 'Corn', 'Corn Husk', 'Cucumber Ripe', 'Cucumber Ripe 2',\n",
    "                'Dates', 'Eggplant', 'Fig', 'Ginger Root', 'Granadilla', 'Grape Blue', 'Grape Pink', 'Grape White', \n",
    "                'Grape White 2', 'Grape White 3', 'Grape White 4', 'Grapefruit Pink', 'Grapefruit White', 'Guava', 'Hazelnut', \n",
    "                'Huckleberry', 'Kaki', 'Kiwi', 'Kohlrabi', 'Kumquats', 'Lemon', 'Lemon Meyer', 'Limes', 'Lychee', 'Mandarine', \n",
    "                'Mango', 'Mango Red', 'Mangostan', 'Maracuja', 'Melon Piel de Sapo', 'Mulberry', 'Nectarine', 'Nectarine Flat', \n",
    "                'Nut Forest', 'Nut Pecan', 'Onion Red', 'Onion Red Peeled', 'Onion White', 'Orange', 'Papaya', 'Passion Fruit', \n",
    "                'Peach', 'Peach 2', 'Peach Flat', 'Pear', 'Pear 2', 'Pear Abate', 'Pear Forelle', 'Pear Kaiser', 'Pear Monster',\n",
    "                'Pear Red', 'Pear Stone', 'Pear Williams', 'Pepino', 'Pepper Green', 'Pepper Orange', 'Pepper Red', \n",
    "                'Pepper Yellow', 'Physalis', 'Physalis with Husk', 'Pineapple', 'Pineapple Mini', 'Pitahaya Red', 'Plum', \n",
    "                'Plum 2', 'Plum 3', 'Pomegranate', 'Pomelo Sweetie', 'Potato Red', 'Potato Red Washed', 'Potato Sweet', \n",
    "                'Potato White', 'Quince', 'Rambutan', 'Raspberry', 'Redcurrant', 'Salak', 'Strawberry', 'Strawberry Wedge', \n",
    "                'Tamarillo', 'Tangelo', 'Tomato 1', 'Tomato 2', 'Tomato 3', 'Tomato 4', 'Tomato Cherry Red', 'Tomato Heart', \n",
    "                'Tomato Maroon', 'Tomato Yellow', 'Tomato not Ripened', 'Walnut', 'Watermelon']"
   ]
  },
  {
   "cell_type": "code",
   "execution_count": 3,
   "id": "771a2d0a",
   "metadata": {},
   "outputs": [
    {
     "name": "stdout",
     "output_type": "stream",
     "text": [
      "Found 67692 files belonging to 131 classes.\n"
     ]
    }
   ],
   "source": [
    "training_data = tf.keras.preprocessing.image_dataset_from_directory(\n",
    "    'fruits_360_dataset/fruits_360/Training',\n",
    "    labels=\"inferred\",\n",
    "    label_mode='categorical',\n",
    "    class_names=class_labels,\n",
    "    color_mode=\"rgb\",\n",
    "    batch_size=32,\n",
    "    image_size=(256, 256),\n",
    "    shuffle=True\n",
    ")"
   ]
  },
  {
   "cell_type": "markdown",
   "id": "fb2c1b63",
   "metadata": {},
   "source": [
    "Preprocessing the Testing Set"
   ]
  },
  {
   "cell_type": "code",
   "execution_count": 4,
   "id": "b7a5b4ed",
   "metadata": {},
   "outputs": [
    {
     "name": "stdout",
     "output_type": "stream",
     "text": [
      "Found 22688 files belonging to 131 classes.\n"
     ]
    }
   ],
   "source": [
    "testing_data = tf.keras.preprocessing.image_dataset_from_directory(\n",
    "    'fruits_360_dataset/fruits_360/Test',\n",
    "    labels=\"inferred\",\n",
    "    label_mode='categorical',\n",
    "    class_names=class_labels,\n",
    "    color_mode=\"rgb\",\n",
    "    batch_size=32,\n",
    "    image_size=(256, 256),\n",
    "    shuffle=True\n",
    ")"
   ]
  },
  {
   "cell_type": "markdown",
   "id": "4949a801",
   "metadata": {},
   "source": [
    "## Part 2: Building the CNN"
   ]
  },
  {
   "cell_type": "markdown",
   "id": "c4a6e87b",
   "metadata": {},
   "source": [
    "Initialising the CNN"
   ]
  },
  {
   "cell_type": "code",
   "execution_count": 5,
   "id": "1a3f9185",
   "metadata": {},
   "outputs": [],
   "source": [
    "cnn = tf.keras.models.Sequential()"
   ]
  },
  {
   "cell_type": "code",
   "execution_count": 6,
   "id": "c32ac562",
   "metadata": {},
   "outputs": [],
   "source": [
    "# Step 1 - Convolution\n",
    "cnn.add(tf.keras.layers.Conv2D(filters=32, kernel_size=3, activation='relu', input_shape=[256,256,3]))"
   ]
  },
  {
   "cell_type": "code",
   "execution_count": 7,
   "id": "84bf6ac5",
   "metadata": {},
   "outputs": [],
   "source": [
    "# Step 2 - Pooling\n",
    "cnn.add(tf.keras.layers.MaxPool2D(pool_size=2, strides=2))"
   ]
  },
  {
   "cell_type": "code",
   "execution_count": 8,
   "id": "02e0a688",
   "metadata": {},
   "outputs": [],
   "source": [
    "# Adding a Second Convolutional Layer\n",
    "cnn.add(tf.keras.layers.Conv2D(filters=32, kernel_size=3, activation='relu'))\n",
    "cnn.add(tf.keras.layers.MaxPool2D(pool_size=2, strides=2))"
   ]
  },
  {
   "cell_type": "code",
   "execution_count": 9,
   "id": "fe893d08",
   "metadata": {},
   "outputs": [],
   "source": [
    "# Step 3 - Flattening\n",
    "cnn.add(tf.keras.layers.Flatten())"
   ]
  },
  {
   "cell_type": "code",
   "execution_count": 10,
   "id": "b0107ce7",
   "metadata": {},
   "outputs": [],
   "source": [
    "# Step 4 - Full Connection\n",
    "cnn.add(tf.keras.layers.Dense(units=128, activation='relu'))"
   ]
  },
  {
   "cell_type": "code",
   "execution_count": 11,
   "id": "1393f045",
   "metadata": {},
   "outputs": [],
   "source": [
    "# Step 5 - Output Layer\n",
    "cnn.add(tf.keras.layers.Dense(units=131, activation='softmax'))"
   ]
  },
  {
   "cell_type": "markdown",
   "id": "c26b303f",
   "metadata": {},
   "source": [
    "## Part 3: Training the CNN"
   ]
  },
  {
   "cell_type": "code",
   "execution_count": 13,
   "id": "1a83f06f",
   "metadata": {},
   "outputs": [],
   "source": [
    "# Compiling the CNN\n",
    "cnn.compile(optimizer= 'adam', loss = 'categorical_crossentropy', metrics = ['accuracy'])"
   ]
  },
  {
   "cell_type": "markdown",
   "id": "61a02ed7",
   "metadata": {},
   "source": [
    "Training the CNN on the Training Set and Evaluating it on the Test Set"
   ]
  },
  {
   "cell_type": "code",
   "execution_count": 14,
   "id": "b2023960",
   "metadata": {
    "scrolled": false
   },
   "outputs": [
    {
     "name": "stdout",
     "output_type": "stream",
     "text": [
      "Epoch 1/4\n",
      "2116/2116 [==============================] - 8482s 4s/step - loss: 4.1480 - accuracy: 0.8256 - val_loss: 1.4861 - val_accuracy: 0.7838\n",
      "Epoch 2/4\n",
      "2116/2116 [==============================] - 6176s 3s/step - loss: 0.6750 - accuracy: 0.8593 - val_loss: 3.1759 - val_accuracy: 0.7038\n",
      "Epoch 3/4\n",
      "2116/2116 [==============================] - 5166s 2s/step - loss: 0.3625 - accuracy: 0.9149 - val_loss: 5.1771 - val_accuracy: 0.6088\n",
      "Epoch 4/4\n",
      "2116/2116 [==============================] - 5737s 3s/step - loss: 0.2919 - accuracy: 0.9459 - val_loss: 4.6571 - val_accuracy: 0.6634\n"
     ]
    },
    {
     "data": {
      "text/plain": [
       "<tensorflow.python.keras.callbacks.History at 0x2248d5bc040>"
      ]
     },
     "execution_count": 14,
     "metadata": {},
     "output_type": "execute_result"
    }
   ],
   "source": [
    "cnn.fit( x= training_data, validation_data= testing_data, epochs= 4)"
   ]
  },
  {
   "cell_type": "code",
   "execution_count": 37,
   "id": "ca564ea0",
   "metadata": {},
   "outputs": [],
   "source": [
    "model_json = cnn.to_json()\n",
    "with open(\"model_arch.json\", \"w\") as json_file:\n",
    "    json_file.write(model_json)\n",
    "cnn.save_weights(\"model_weights.h5\")"
   ]
  },
  {
   "cell_type": "markdown",
   "id": "816fcbfc",
   "metadata": {},
   "source": [
    "## Part 3: Making a Single Prediction"
   ]
  },
  {
   "cell_type": "code",
   "execution_count": 35,
   "id": "ba2f717e",
   "metadata": {},
   "outputs": [
    {
     "name": "stdout",
     "output_type": "stream",
     "text": [
      "[[[[198. 185. 177.]\n",
      "   [198. 185. 177.]\n",
      "   [198. 185. 177.]\n",
      "   ...\n",
      "   [181. 191. 138.]\n",
      "   [181. 191. 138.]\n",
      "   [182. 192. 139.]]\n",
      "\n",
      "  [[198. 185. 177.]\n",
      "   [198. 185. 177.]\n",
      "   [198. 185. 177.]\n",
      "   ...\n",
      "   [181. 191. 138.]\n",
      "   [182. 192. 139.]\n",
      "   [180. 190. 137.]]\n",
      "\n",
      "  [[196. 183. 175.]\n",
      "   [199. 186. 178.]\n",
      "   [199. 186. 178.]\n",
      "   ...\n",
      "   [178. 188. 135.]\n",
      "   [181. 191. 138.]\n",
      "   [181. 191. 138.]]\n",
      "\n",
      "  ...\n",
      "\n",
      "  [[187. 179. 168.]\n",
      "   [187. 179. 168.]\n",
      "   [189. 181. 170.]\n",
      "   ...\n",
      "   [212. 203. 194.]\n",
      "   [212. 203. 194.]\n",
      "   [211. 202. 193.]]\n",
      "\n",
      "  [[187. 179. 168.]\n",
      "   [187. 179. 168.]\n",
      "   [189. 181. 170.]\n",
      "   ...\n",
      "   [212. 203. 194.]\n",
      "   [211. 202. 193.]\n",
      "   [211. 202. 193.]]\n",
      "\n",
      "  [[186. 178. 167.]\n",
      "   [189. 181. 170.]\n",
      "   [187. 179. 168.]\n",
      "   ...\n",
      "   [212. 203. 194.]\n",
      "   [210. 201. 192.]\n",
      "   [209. 200. 191.]]]]\n",
      "[[5.9374759e-20 1.8184173e-17 2.4654484e-13 3.8631755e-13 9.1949708e-38\n",
      "  1.6023608e-26 2.7024120e-19 2.8677626e-11 1.8485781e-22 2.0215850e-24\n",
      "  5.4982570e-09 1.5227942e-13 9.5061158e-17 1.0532342e-25 7.1986810e-16\n",
      "  8.1846765e-06 1.5979464e-05 2.7321191e-08 8.3289826e-01 3.3252494e-14\n",
      "  2.2229360e-18 1.6081692e-07 2.4060725e-17 3.4837716e-12 7.9309437e-16\n",
      "  1.1407796e-16 1.2035882e-18 5.4947062e-08 3.2595048e-13 8.7017582e-26\n",
      "  3.1523344e-28 1.1849151e-25 2.3276788e-12 1.2621066e-16 9.4616072e-19\n",
      "  4.0261642e-13 2.2154277e-10 1.0979975e-17 1.1631967e-13 6.2710281e-14\n",
      "  6.4873420e-14 2.0324135e-21 2.0492062e-13 1.4195062e-09 4.1756769e-25\n",
      "  2.1832517e-19 6.1031282e-03 3.1829224e-25 1.9297779e-10 1.8841131e-12\n",
      "  8.0941975e-10 2.0882558e-25 2.0527295e-18 1.2846215e-07 2.3737783e-12\n",
      "  6.2818261e-14 7.9794235e-12 2.1695402e-23 4.7365378e-10 2.7619873e-17\n",
      "  6.9485231e-21 2.7519273e-10 4.0148843e-24 1.8776078e-17 2.6490159e-15\n",
      "  1.6107678e-20 1.8166128e-19 5.3352049e-13 7.7257231e-05 1.5459002e-15\n",
      "  1.2166267e-29 1.6696431e-15 5.4361329e-15 2.9983377e-02 2.0325569e-06\n",
      "  1.6713178e-05 4.1759233e-14 2.3285549e-37 6.3791736e-20 1.5033048e-07\n",
      "  2.4041754e-23 1.9988618e-11 1.6149935e-14 1.8612416e-17 1.4976762e-06\n",
      "  3.0805688e-05 1.1133002e-15 6.2503378e-24 6.0318655e-08 9.4615227e-14\n",
      "  6.5746808e-09 2.6767264e-04 2.1141206e-18 2.2421930e-17 5.3871841e-16\n",
      "  7.6546738e-12 4.5299100e-16 4.2660698e-16 1.6578155e-12 5.2765455e-07\n",
      "  2.6533683e-03 2.6699459e-07 3.9819498e-26 7.5879693e-15 5.7140473e-12\n",
      "  2.4220000e-20 1.4620322e-16 7.0614982e-07 7.3194866e-07 1.0684836e-08\n",
      "  3.2438566e-17 2.9500562e-14 7.6623337e-07 1.2629045e-11 6.1347353e-04\n",
      "  4.3811376e-08 5.6780458e-26 4.0508907e-09 1.6176765e-13 7.1035052e-16\n",
      "  1.5947041e-23 1.2732458e-01 4.5528999e-08 1.0888645e-14 4.5406416e-21\n",
      "  1.6127644e-22 3.9711181e-19 3.5295952e-15 1.5665869e-10 6.7207253e-14\n",
      "  3.2083742e-11]]\n",
      "['Apple Braeburn', 'Apple Crimson Snow', 'Apple Golden 1', 'Apple Golden 2', 'Apple Golden 3', 'Apple Granny Smith', 'Apple Pink Lady', 'Apple Red 1', 'Apple Red 2', 'Apple Red 3', 'Apple Red Delicious', 'Apple Red Yellow 1', 'Apple Red Yellow 2', 'Apricot', 'Avocado', 'Avocado ripe', 'Banana', 'Banana Lady Finger', 'Banana Red', 'Beetroot', 'Blueberry', 'Cactus fruit', 'Cantaloupe 1', 'Cantaloupe 2', 'Carambula', 'Cauliflower', 'Cherry 1', 'Cherry 2', 'Cherry Rainier', 'Cherry Wax Black', 'Cherry Wax Red', 'Cherry Wax Yellow', 'Chestnut', 'Clementine', 'Cocos', 'Corn', 'Corn Husk', 'Cucumber Ripe', 'Cucumber Ripe 2', 'Dates', 'Eggplant', 'Fig', 'Ginger Root', 'Granadilla', 'Grape Blue', 'Grape Pink', 'Grape White', 'Grape White 2', 'Grape White 3', 'Grape White 4', 'Grapefruit Pink', 'Grapefruit White', 'Guava', 'Hazelnut', 'Huckleberry', 'Kaki', 'Kiwi', 'Kohlrabi', 'Kumquats', 'Lemon', 'Lemon Meyer', 'Limes', 'Lychee', 'Mandarine', 'Mango', 'Mango Red', 'Mangostan', 'Maracuja', 'Melon Piel de Sapo', 'Mulberry', 'Nectarine', 'Nectarine Flat', 'Nut Forest', 'Nut Pecan', 'Onion Red', 'Onion Red Peeled', 'Onion White', 'Orange', 'Papaya', 'Passion Fruit', 'Peach', 'Peach 2', 'Peach Flat', 'Pear', 'Pear 2', 'Pear Abate', 'Pear Forelle', 'Pear Kaiser', 'Pear Monster', 'Pear Red', 'Pear Stone', 'Pear Williams', 'Pepino', 'Pepper Green', 'Pepper Orange', 'Pepper Red', 'Pepper Yellow', 'Physalis', 'Physalis with Husk', 'Pineapple', 'Pineapple Mini', 'Pitahaya Red', 'Plum', 'Plum 2', 'Plum 3', 'Pomegranate', 'Pomelo Sweetie', 'Potato Red', 'Potato Red Washed', 'Potato Sweet', 'Potato White', 'Quince', 'Rambutan', 'Raspberry', 'Redcurrant', 'Salak', 'Strawberry', 'Strawberry Wedge', 'Tamarillo', 'Tangelo', 'Tomato 1', 'Tomato 2', 'Tomato 3', 'Tomato 4', 'Tomato Cherry Red', 'Tomato Heart', 'Tomato Maroon', 'Tomato Yellow', 'Tomato not Ripened', 'Walnut', 'Watermelon']\n",
      "Apple Braeburn\n"
     ]
    }
   ],
   "source": [
    "import numpy as np\n",
    "from keras.preprocessing import image\n",
    "test_image = image.load_img('fruits_360_dataset/fruits_360/realtime_images/image1.jpeg', target_size = (256,256))\n",
    "\n",
    "test_image = image.img_to_array(test_image)\n",
    "test_image = np.expand_dims(test_image, axis = 0)\n",
    "result = cnn.predict(test_image)\n",
    "\n",
    "print(test_image)\n",
    "print(result)\n",
    "print(training_data.class_names)\n",
    "\n",
    "for i in class_labels:\n",
    "    if (result[0][0] == i):\n",
    "        prediction = class_labels[i]        \n",
    "\n",
    "\n",
    "print(prediction)"
   ]
  },
  {
   "cell_type": "code",
   "execution_count": null,
   "id": "2211e3f9",
   "metadata": {},
   "outputs": [],
   "source": []
  }
 ],
 "metadata": {
  "kernelspec": {
   "display_name": "Python 3",
   "language": "python",
   "name": "python3"
  },
  "language_info": {
   "codemirror_mode": {
    "name": "ipython",
    "version": 3
   },
   "file_extension": ".py",
   "mimetype": "text/x-python",
   "name": "python",
   "nbconvert_exporter": "python",
   "pygments_lexer": "ipython3",
   "version": "3.8.8"
  }
 },
 "nbformat": 4,
 "nbformat_minor": 5
}
